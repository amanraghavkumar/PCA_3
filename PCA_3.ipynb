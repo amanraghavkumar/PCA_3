{
 "cells": [
  {
   "cell_type": "markdown",
   "id": "55022d4c",
   "metadata": {},
   "source": [
    "Q1. What are Eigenvalues and Eigenvectors? How are they related to the Eigen-Decomposition approach?\n"
   ]
  },
  {
   "cell_type": "markdown",
   "id": "f199272a",
   "metadata": {},
   "source": [
    "Q1. Eigenvalues and eigenvectors are concepts in linear algebra associated with square matrices. Given a square matrix A, a non-zero vector v is an eigenvector of A if Av is a scalar multiple of v. The scalar multiple is the eigenvalue associated with that eigenvector. The eigen-decomposition approach involves expressing a matrix as a product of its eigenvectors and eigenvalues."
   ]
  },
  {
   "cell_type": "markdown",
   "id": "d402ed53",
   "metadata": {},
   "source": [
    "Q2. What is eigen decomposition and what is its significance in linear algebra?"
   ]
  },
  {
   "cell_type": "markdown",
   "id": "701f0049",
   "metadata": {},
   "source": [
    "Eigen decomposition involves expressing a matrix as a product of its eigenvectors and eigenvalues. For a matrix A, the eigen decomposition is given by A=PDP^ −1\n",
    " , where P is the matrix of eigenvectors and D is the diagonal matrix of eigenvalues. This decomposition is significant in linear algebra as it simplifies operations on matrices and reveals the inherent structure of the matrix."
   ]
  },
  {
   "cell_type": "markdown",
   "id": "288cc682",
   "metadata": {},
   "source": [
    "Q3. What are the conditions that must be satisfied for a square matrix to be diagonalizable using the\n",
    "Eigen-Decomposition approach? Provide a brief proof to support your answer."
   ]
  },
  {
   "cell_type": "markdown",
   "id": "9af04b80",
   "metadata": {},
   "source": [
    "For a square matrix to be diagonalizable using the Eigen-Decomposition approach, it must have a complete set of linearly independent eigenvectors. In other words, the matrix must have n linearly independent eigenvectors, where n is the size of the matrix. A proof involves showing that the matrix P, formed by stacking the eigenvectors as columns, is invertible."
   ]
  },
  {
   "cell_type": "markdown",
   "id": "19ba2d0f",
   "metadata": {},
   "source": [
    "Q4. What is the significance of the spectral theorem in the context of the Eigen-Decomposition approach?"
   ]
  },
  {
   "cell_type": "markdown",
   "id": "36a29e00",
   "metadata": {},
   "source": [
    "The spectral theorem states that for a symmetric matrix, the eigenvectors are orthogonal, and the matrix can be diagonalized using an orthogonal matrix. This is significant because it simplifies the decomposition, and the diagonalization becomes \n",
    "A=PDP ^T\n",
    " , where P is an orthogonal matrix."
   ]
  },
  {
   "cell_type": "markdown",
   "id": "c213b02f",
   "metadata": {},
   "source": [
    "Q5. How do you find the eigenvalues of a matrix and what do they represent?"
   ]
  },
  {
   "cell_type": "markdown",
   "id": "55f3df7b",
   "metadata": {},
   "source": [
    "To find the eigenvalues of a matrix A, solve the characteristic equation \n",
    "det(A−λI)=0, where λ is the eigenvalue. The solutions to this equation are the eigenvalues.\n",
    "\n"
   ]
  },
  {
   "cell_type": "markdown",
   "id": "c490393c",
   "metadata": {},
   "source": [
    "Q6. What are eigenvectors and how are they related to eigenvalues?"
   ]
  },
  {
   "cell_type": "markdown",
   "id": "0d83082b",
   "metadata": {},
   "source": [
    "Eigenvectors are non-zero vectors that, when multiplied by a matrix, result in a scalar multiple of the original vector (Av = λv). They are related to eigenvalues through this equation."
   ]
  },
  {
   "cell_type": "markdown",
   "id": "22166751",
   "metadata": {},
   "source": [
    "Q7. Can you explain the geometric interpretation of eigenvectors and eigenvalues?\n"
   ]
  },
  {
   "cell_type": "markdown",
   "id": "0b9250e4",
   "metadata": {},
   "source": [
    "Eigenvectors are non-zero vectors that, when multiplied by a matrix, result in a scalar multiple of the original vector (Av = λv). They are related to eigenvalues through this equation."
   ]
  },
  {
   "cell_type": "markdown",
   "id": "ddd25037",
   "metadata": {},
   "source": [
    "Q8. What are some real-world applications of eigen decomposition?\n"
   ]
  },
  {
   "cell_type": "markdown",
   "id": "a851f607",
   "metadata": {},
   "source": [
    "Real-world applications of eigen decomposition include image compression, signal processing, quantum mechanics, and structural engineering. In image compression, for example, eigen decomposition is used to transform the image into a basis where energy is concentrated in fewer coefficients."
   ]
  },
  {
   "cell_type": "markdown",
   "id": "95d3eaff",
   "metadata": {},
   "source": [
    "Q9. Can a matrix have more than one set of eigenvectors and eigenvalues?"
   ]
  },
  {
   "cell_type": "markdown",
   "id": "f417e9a0",
   "metadata": {},
   "source": [
    "Yes, a matrix can have more than one set of eigenvectors and eigenvalues. However, the eigenvalues themselves are unique for a given matrix."
   ]
  },
  {
   "cell_type": "markdown",
   "id": "61763897",
   "metadata": {},
   "source": [
    "Q10. In what ways is the Eigen-Decomposition approach useful in data analysis and machine learning?\n",
    "Discuss at least three specific applications or techniques that rely on Eigen-Decomposition."
   ]
  },
  {
   "cell_type": "markdown",
   "id": "636cd2b5",
   "metadata": {},
   "source": [
    "Eigen-Decomposition is useful in data analysis and machine learning for various applications:\n",
    "\n",
    "a. Principal Component Analysis (PCA): Eigen-Decomposition is central to PCA, where it is used to find the principal components, reducing dimensionality while retaining the most important information.\n",
    "\n",
    "b. Spectral Clustering: Eigen-Decomposition is used in spectral clustering algorithms to find clusters in data based on the eigenvalues and eigenvectors of a similarity matrix.\n",
    "\n",
    "c. Kernel PCA: In non-linear dimensionality reduction, Kernel PCA relies on eigen-decomposition to find principal components in a high-dimensional feature space."
   ]
  },
  {
   "cell_type": "code",
   "execution_count": null,
   "id": "979c374b",
   "metadata": {},
   "outputs": [],
   "source": []
  }
 ],
 "metadata": {
  "kernelspec": {
   "display_name": "Python 3 (ipykernel)",
   "language": "python",
   "name": "python3"
  },
  "language_info": {
   "codemirror_mode": {
    "name": "ipython",
    "version": 3
   },
   "file_extension": ".py",
   "mimetype": "text/x-python",
   "name": "python",
   "nbconvert_exporter": "python",
   "pygments_lexer": "ipython3",
   "version": "3.10.9"
  }
 },
 "nbformat": 4,
 "nbformat_minor": 5
}
